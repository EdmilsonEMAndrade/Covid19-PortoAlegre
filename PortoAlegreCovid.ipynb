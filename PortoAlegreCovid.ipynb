{
  "nbformat": 4,
  "nbformat_minor": 0,
  "metadata": {
    "colab": {
      "name": "PortoAlegreCovid",
      "provenance": [],
      "collapsed_sections": [
        "zGe0JVsl13CC"
      ],
      "toc_visible": true,
      "include_colab_link": true
    },
    "kernelspec": {
      "name": "python3",
      "display_name": "Python 3"
    }
  },
  "cells": [
    {
      "cell_type": "markdown",
      "metadata": {
        "id": "view-in-github",
        "colab_type": "text"
      },
      "source": [
        "<a href=\"https://colab.research.google.com/github/EdmilsonEMAndrade/Covid19-PortoAlegre/blob/master/PortoAlegreCovid.ipynb\" target=\"_parent\"><img src=\"https://colab.research.google.com/assets/colab-badge.svg\" alt=\"Open In Colab\"/></a>"
      ]
    },
    {
      "cell_type": "code",
      "metadata": {
        "id": "OW2y1NzvdxKz",
        "colab_type": "code",
        "cellView": "form",
        "colab": {}
      },
      "source": [
        "#@title Análise a partir dos 500 casos confirmados de Covid-19 em Porto Alegre"
      ],
      "execution_count": 289,
      "outputs": []
    },
    {
      "cell_type": "markdown",
      "metadata": {
        "id": "zGe0JVsl13CC",
        "colab_type": "text"
      },
      "source": [
        "#Inicializando"
      ]
    },
    {
      "cell_type": "code",
      "metadata": {
        "id": "CTcMeAGtZoH1",
        "colab_type": "code",
        "colab": {}
      },
      "source": [
        "import pandas as pd  #bibioteca responsável para o tratamento e limpeza dos dados\n",
        "import numpy as np\n",
        "import matplotlib.pyplot as plt  #biblioteca utilizada para plotar os gráficos\n",
        "import seaborn as sn \n",
        "from google.colab import files\n",
        "from sklearn import datasets, linear_model\n",
        "from sklearn.metrics import mean_squared_error, median_absolute_error\n",
        "from sklearn.model_selection import train_test_split\n",
        "import sklearn\n",
        "from datetime import timedelta\n",
        "from erroFuncoes import  *\n",
        "from graficoBarras import add_value_labels\n"
      ],
      "execution_count": 290,
      "outputs": []
    },
    {
      "cell_type": "code",
      "metadata": {
        "id": "urPNckN6Z_rr",
        "colab_type": "code",
        "cellView": "form",
        "colab": {}
      },
      "source": [
        "#@title Carregando os dados \n",
        "dados_originais = pd.read_csv(\"/content/PortoAlegre_Covid.csv\")\n",
        "#@markdown ##### Gernado uma cópia\n",
        "dados = dados_originais.copy()\n",
        "#Conferter os dados da Data para o tipo Date\n",
        "dados['Data'] = pd.to_datetime(dados.Data)"
      ],
      "execution_count": 291,
      "outputs": []
    },
    {
      "cell_type": "markdown",
      "metadata": {
        "id": "BtbcQu21aBL7",
        "colab_type": "text"
      },
      "source": [
        "# Apresentação"
      ]
    },
    {
      "cell_type": "code",
      "metadata": {
        "id": "VkTfszWhpLAM",
        "colab_type": "code",
        "cellView": "form",
        "colab": {
          "base_uri": "https://localhost:8080/",
          "height": 404
        },
        "outputId": "f3b82e34-fcda-40b8-85f7-cc7f117cdfda"
      },
      "source": [
        "#@title Tabela Inicial\n",
        "dados"
      ],
      "execution_count": 292,
      "outputs": [
        {
          "output_type": "execute_result",
          "data": {
            "text/html": [
              "<div>\n",
              "<style scoped>\n",
              "    .dataframe tbody tr th:only-of-type {\n",
              "        vertical-align: middle;\n",
              "    }\n",
              "\n",
              "    .dataframe tbody tr th {\n",
              "        vertical-align: top;\n",
              "    }\n",
              "\n",
              "    .dataframe thead th {\n",
              "        text-align: right;\n",
              "    }\n",
              "</style>\n",
              "<table border=\"1\" class=\"dataframe\">\n",
              "  <thead>\n",
              "    <tr style=\"text-align: right;\">\n",
              "      <th></th>\n",
              "      <th>Data</th>\n",
              "      <th>Confirmados</th>\n",
              "      <th>EmAnalise</th>\n",
              "      <th>Negativos</th>\n",
              "      <th>Obitos</th>\n",
              "      <th>Recuperados</th>\n",
              "      <th>inconclusivos</th>\n",
              "      <th>UTIConfirmado</th>\n",
              "    </tr>\n",
              "  </thead>\n",
              "  <tbody>\n",
              "    <tr>\n",
              "      <th>0</th>\n",
              "      <td>2020-05-04</td>\n",
              "      <td>505</td>\n",
              "      <td>402</td>\n",
              "      <td>1422</td>\n",
              "      <td>16</td>\n",
              "      <td>303</td>\n",
              "      <td>2</td>\n",
              "      <td>36</td>\n",
              "    </tr>\n",
              "    <tr>\n",
              "      <th>1</th>\n",
              "      <td>2020-05-05</td>\n",
              "      <td>511</td>\n",
              "      <td>333</td>\n",
              "      <td>1452</td>\n",
              "      <td>17</td>\n",
              "      <td>327</td>\n",
              "      <td>2</td>\n",
              "      <td>30</td>\n",
              "    </tr>\n",
              "    <tr>\n",
              "      <th>2</th>\n",
              "      <td>2020-05-06</td>\n",
              "      <td>519</td>\n",
              "      <td>281</td>\n",
              "      <td>1494</td>\n",
              "      <td>17</td>\n",
              "      <td>343</td>\n",
              "      <td>2</td>\n",
              "      <td>38</td>\n",
              "    </tr>\n",
              "    <tr>\n",
              "      <th>3</th>\n",
              "      <td>2020-05-07</td>\n",
              "      <td>562</td>\n",
              "      <td>318</td>\n",
              "      <td>1553</td>\n",
              "      <td>17</td>\n",
              "      <td>367</td>\n",
              "      <td>2</td>\n",
              "      <td>39</td>\n",
              "    </tr>\n",
              "    <tr>\n",
              "      <th>4</th>\n",
              "      <td>2020-05-08</td>\n",
              "      <td>582</td>\n",
              "      <td>361</td>\n",
              "      <td>1602</td>\n",
              "      <td>17</td>\n",
              "      <td>374</td>\n",
              "      <td>2</td>\n",
              "      <td>40</td>\n",
              "    </tr>\n",
              "    <tr>\n",
              "      <th>...</th>\n",
              "      <td>...</td>\n",
              "      <td>...</td>\n",
              "      <td>...</td>\n",
              "      <td>...</td>\n",
              "      <td>...</td>\n",
              "      <td>...</td>\n",
              "      <td>...</td>\n",
              "      <td>...</td>\n",
              "    </tr>\n",
              "    <tr>\n",
              "      <th>79</th>\n",
              "      <td>2020-07-22</td>\n",
              "      <td>6844</td>\n",
              "      <td>13390</td>\n",
              "      <td>20729</td>\n",
              "      <td>248</td>\n",
              "      <td>3719</td>\n",
              "      <td>17</td>\n",
              "      <td>285</td>\n",
              "    </tr>\n",
              "    <tr>\n",
              "      <th>80</th>\n",
              "      <td>2020-07-23</td>\n",
              "      <td>7033</td>\n",
              "      <td>13825</td>\n",
              "      <td>21156</td>\n",
              "      <td>257</td>\n",
              "      <td>3771</td>\n",
              "      <td>17</td>\n",
              "      <td>286</td>\n",
              "    </tr>\n",
              "    <tr>\n",
              "      <th>81</th>\n",
              "      <td>2020-07-24</td>\n",
              "      <td>7288</td>\n",
              "      <td>12813</td>\n",
              "      <td>21957</td>\n",
              "      <td>262</td>\n",
              "      <td>3771</td>\n",
              "      <td>17</td>\n",
              "      <td>296</td>\n",
              "    </tr>\n",
              "    <tr>\n",
              "      <th>82</th>\n",
              "      <td>2020-07-25</td>\n",
              "      <td>7617</td>\n",
              "      <td>13001</td>\n",
              "      <td>23344</td>\n",
              "      <td>269</td>\n",
              "      <td>3952</td>\n",
              "      <td>17</td>\n",
              "      <td>310</td>\n",
              "    </tr>\n",
              "    <tr>\n",
              "      <th>83</th>\n",
              "      <td>2020-07-26</td>\n",
              "      <td>7652</td>\n",
              "      <td>12902</td>\n",
              "      <td>23421</td>\n",
              "      <td>273</td>\n",
              "      <td>3962</td>\n",
              "      <td>17</td>\n",
              "      <td>313</td>\n",
              "    </tr>\n",
              "  </tbody>\n",
              "</table>\n",
              "<p>84 rows × 8 columns</p>\n",
              "</div>"
            ],
            "text/plain": [
              "         Data  Confirmados  ...  inconclusivos  UTIConfirmado\n",
              "0  2020-05-04          505  ...              2             36\n",
              "1  2020-05-05          511  ...              2             30\n",
              "2  2020-05-06          519  ...              2             38\n",
              "3  2020-05-07          562  ...              2             39\n",
              "4  2020-05-08          582  ...              2             40\n",
              "..        ...          ...  ...            ...            ...\n",
              "79 2020-07-22         6844  ...             17            285\n",
              "80 2020-07-23         7033  ...             17            286\n",
              "81 2020-07-24         7288  ...             17            296\n",
              "82 2020-07-25         7617  ...             17            310\n",
              "83 2020-07-26         7652  ...             17            313\n",
              "\n",
              "[84 rows x 8 columns]"
            ]
          },
          "metadata": {
            "tags": []
          },
          "execution_count": 292
        }
      ]
    },
    {
      "cell_type": "markdown",
      "metadata": {
        "id": "QKSaxVQqE36x",
        "colab_type": "text"
      },
      "source": [
        "#Verificando de quanto em quanto tempo estão dobrando os casos"
      ]
    },
    {
      "cell_type": "code",
      "metadata": {
        "id": "blL6XquWAujn",
        "colab_type": "code",
        "cellView": "both",
        "colab": {
          "base_uri": "https://localhost:8080/",
          "height": 67
        },
        "outputId": "ae5144bb-4c9c-4f45-aabd-8d75830bc3ed"
      },
      "source": [
        "#@title Tempo para dobrar o número de Confirmados\n",
        "dobrouConf= dados.loc[0,'Confirmados']\n",
        "inicial = 0\n",
        "for c in range (1, len(dados['Confirmados'])):\n",
        "  if dados.loc[c,'Confirmados']>2*dobrouConf:\n",
        "    inicial = c - inicial\n",
        "    print(\"O nº de confirmados dobrou no dia {}, passando de {:6} para {:6}. Dobrando o número de em {:3} dias\".format(dados_originais.loc[c,'Data'],dobrouConf,dados.loc[c,'Confirmados'], inicial))\n",
        "    dobrouConf = dados.loc[c,'Confirmados']\n",
        "    inicial = c"
      ],
      "execution_count": 293,
      "outputs": [
        {
          "output_type": "stream",
          "text": [
            "O nº de confirmados dobrou no dia 2020-05-25, passando de    505 para   1014. Dobrando o número de em  21 dias\n",
            "O nº de confirmados dobrou no dia 2020-06-11, passando de   1014 para   2047. Dobrando o número de em  17 dias\n",
            "O nº de confirmados dobrou no dia 2020-07-07, passando de   2047 para   4140. Dobrando o número de em  26 dias\n"
          ],
          "name": "stdout"
        }
      ]
    },
    {
      "cell_type": "code",
      "metadata": {
        "id": "oDR543Z4KMyl",
        "colab_type": "code",
        "cellView": "both",
        "colab": {
          "base_uri": "https://localhost:8080/",
          "height": 67
        },
        "outputId": "47c92afb-692e-47fc-cf1b-de667bf4e9da"
      },
      "source": [
        "#@title Tempo para dobrar o número de Óbitos\n",
        "dobrou= dados.loc[0,'Obitos']\n",
        "inicial = 0\n",
        "for c in range (1, len(dados['Obitos'])):\n",
        "  if dados.loc[c,'Obitos']>2*dobrou:\n",
        "    inicial = c - inicial\n",
        "    print(\"O nº de obitos dobrou no dia {} passando de {:3} para {:3}. Dobrando o número de obitos em {:3} dias\".format(dados_originais.loc[c,'Data'],dobrou,dados.loc[c,'Obitos'], inicial))\n",
        "    dobrou = dados.loc[c,'Obitos']\n",
        "    inicial = c"
      ],
      "execution_count": 294,
      "outputs": [
        {
          "output_type": "stream",
          "text": [
            "O nº de obitos dobrou no dia 2020-05-27 passando de  16 para  34. Dobrando o número de obitos em  23 dias\n",
            "O nº de obitos dobrou no dia 2020-06-24 passando de  34 para  73. Dobrando o número de obitos em  28 dias\n",
            "O nº de obitos dobrou no dia 2020-07-09 passando de  73 para 148. Dobrando o número de obitos em  15 dias\n"
          ],
          "name": "stdout"
        }
      ]
    },
    {
      "cell_type": "code",
      "metadata": {
        "id": "3LUsAQ4ClUpR",
        "colab_type": "code",
        "cellView": "form",
        "colab": {
          "base_uri": "https://localhost:8080/",
          "height": 50
        },
        "outputId": "020445b8-d12e-434d-cfce-a1d92f3844cd"
      },
      "source": [
        "#@title Ocupação UTI\n",
        "leitoUTI = 768\n",
        "\n",
        "print(\"Hoje temos {} pacientes internados em UTIs de Porto Alegre\".format(dados_originais.loc[len(dados_originais)-1,'UTIConfirmado']))\n",
        "print(\"Dos {} leitos de UTI, {:.2f}% são ocupados por pacientes confirmados com Covid-19.\".format(leitoUTI, (dados.loc[len(dados['UTIConfirmado'])-1,'UTIConfirmado']/leitoUTI)*100))"
      ],
      "execution_count": 295,
      "outputs": [
        {
          "output_type": "stream",
          "text": [
            "Hoje temos 313 pacientes internados em UTIs de Porto Alegre\n",
            "Dos 768 leitos de UTI, 40.76% são ocupados por pacientes confirmados com Covid-19.\n"
          ],
          "name": "stdout"
        }
      ]
    },
    {
      "cell_type": "markdown",
      "metadata": {
        "id": "KP8C81g8fuD_",
        "colab_type": "text"
      },
      "source": [
        "#Contagem casos em análise"
      ]
    },
    {
      "cell_type": "code",
      "metadata": {
        "id": "zC_qOH7DNzgu",
        "colab_type": "code",
        "cellView": "form",
        "colab": {
          "base_uri": "https://localhost:8080/",
          "height": 117
        },
        "outputId": "5cf975c5-ad29-4e02-86f3-22bfa24679a5"
      },
      "source": [
        "#@title Contagem de aumento e diminuição de casos em análise\n",
        "\n",
        "nAnalise = dados.loc[0, 'EmAnalise']\n",
        "aumentou = 0\n",
        "diminuiu = 0\n",
        "igual = 0\n",
        "\n",
        "for c in range (1, len(dados['EmAnalise'])):\n",
        "  if dados.loc[c-1, 'EmAnalise']< dados.loc[c, 'EmAnalise']:\n",
        "    aumentou +=1\n",
        "  elif dados.loc[c-1, 'EmAnalise']> dados.loc[c, 'EmAnalise']:\n",
        "    diminuiu +=1\n",
        "  else:\n",
        "    igual +=1\n",
        "print(\"Dos {} dias análisados: \\n{:3} dias o número de exames em análise aumentou\\n{:3} dias o número de exames em análise diminuiu\\n{:3} dias o número de exames em análise não teve alteração.\". format(len(dados['EmAnalise'])-1,aumentou, diminuiu, igual))\n",
        "print(\"O maior acumulo de casos em análise é de {:5}. \". format(dados['EmAnalise'].max()))\n",
        "print(\"O número atual de casos em análise é de  {:5}. \".format(dados.loc[len(dados)-1, 'EmAnalise']))"
      ],
      "execution_count": 296,
      "outputs": [
        {
          "output_type": "stream",
          "text": [
            "Dos 83 dias análisados: \n",
            " 53 dias o número de exames em análise aumentou\n",
            " 28 dias o número de exames em análise diminuiu\n",
            "  2 dias o número de exames em análise não teve alteração.\n",
            "O maior acumulo de casos em análise é de 13825. \n",
            "O número atual de casos em análise é de  12902. \n"
          ],
          "name": "stdout"
        }
      ]
    },
    {
      "cell_type": "markdown",
      "metadata": {
        "id": "uhVeAqL-FC_4",
        "colab_type": "text"
      },
      "source": [
        "#Acrescentando Coluna \n",
        "*Novos Casos diários\n",
        "*Casos Negativos diários\n",
        "\n",
        "\n",
        "\n"
      ]
    },
    {
      "cell_type": "code",
      "metadata": {
        "id": "Z92VjKwIDakd",
        "colab_type": "code",
        "cellView": "both",
        "colab": {}
      },
      "source": [
        "#@title Acescentando Coluna de Conf Diária e Casos Neg Diários\n",
        "dados.insert(loc = 8, column = 'ConfDiarios', value =0)\n",
        "dados.loc[0,'ConfDiarios']=7\n",
        "for c in range (1, len(dados['Confirmados'])):\n",
        "  dados.loc[c,'ConfDiarios']=int(dados.loc[c,'Confirmados'] - dados.loc[c-1,'Confirmados'])\n",
        "dados.insert(loc = 9, column = 'NegDiarios', value =0)\n",
        "dados.loc[0,'NegDiarios']=41\n",
        "for c in range (1, len(dados['Negativos'])):\n",
        "  dados.loc[c,'NegDiarios']=int(dados.loc[c,'Negativos'] - dados.loc[c-1,'Negativos'])"
      ],
      "execution_count": 297,
      "outputs": []
    },
    {
      "cell_type": "markdown",
      "metadata": {
        "id": "YxOYyp-cLSPg",
        "colab_type": "text"
      },
      "source": [
        "#Outiliers indicará possivel acumulo de dados na divulgação diária ou erros nos dados informados\n"
      ]
    },
    {
      "cell_type": "code",
      "metadata": {
        "id": "-zyTcV-2Ks2S",
        "colab_type": "code",
        "cellView": "form",
        "colab": {
          "base_uri": "https://localhost:8080/",
          "height": 0
        },
        "outputId": "b437ddd1-6e94-4263-b50d-8b7ccd999594"
      },
      "source": [
        "#@title Gráfico Outilier de Confirmação Diária\n",
        "boxplot = dados.boxplot(column=['ConfDiarios'])"
      ],
      "execution_count": 298,
      "outputs": [
        {
          "output_type": "display_data",
          "data": {
            "image/png": "[encoded data removed]",
            "text/plain": [
              "<Figure size 432x288 with 1 Axes>"
            ]
          },
          "metadata": {
            "tags": [],
            "needs_background": "light"
          }
        }
      ]
    },
    {
      "cell_type": "code",
      "metadata": {
        "id": "YWTLN7ydK7yx",
        "colab_type": "code",
        "cellView": "form",
        "colab": {
          "base_uri": "https://localhost:8080/",
          "height": 0
        },
        "outputId": "5061682a-d17c-44db-9b45-1d8237edf0cc"
      },
      "source": [
        "#@title Gráfico Outilier de Casos Negativos Diários\n",
        "boxplot = dados.boxplot(column=['NegDiarios'])"
      ],
      "execution_count": 299,
      "outputs": [
        {
          "output_type": "display_data",
          "data": {
            "image/png": "[encoded data removed]",
            "text/plain": [
              "<Figure size 432x288 with 1 Axes>"
            ]
          },
          "metadata": {
            "tags": [],
            "needs_background": "light"
          }
        }
      ]
    },
    {
      "cell_type": "markdown",
      "metadata": {
        "id": "urLxrR3kFDnh",
        "colab_type": "text"
      },
      "source": [
        "#Excluindo linha"
      ]
    },
    {
      "cell_type": "code",
      "metadata": {
        "id": "fZpiYqzzoLL5",
        "colab_type": "code",
        "colab": {},
        "cellView": "form"
      },
      "source": [
        "#@title Excluindo dias com diminuição de casos\n",
        "i = 0\n",
        "while True:\n",
        "  if dados.loc[i,'ConfDiarios']<0:\n",
        "    dados.drop(i,inplace=True)\n",
        "    dados.reset_index(inplace=True)\n",
        "  i +=1\n",
        "  if i >= len(dados):\n",
        "    break"
      ],
      "execution_count": 300,
      "outputs": []
    },
    {
      "cell_type": "markdown",
      "metadata": {
        "id": "wCcG1gmrJQtS",
        "colab_type": "text"
      },
      "source": [
        "#Acrescentando Coluna \n",
        "*Após retirada de possiveis erros "
      ]
    },
    {
      "cell_type": "code",
      "metadata": {
        "colab_type": "code",
        "id": "8MnhVDeQllir",
        "cellView": "form",
        "colab": {}
      },
      "source": [
        "#@title ID\n",
        "dados.insert(loc = 0, column = 'ID', value =0)\n",
        "for c in range (0, len(dados)):\n",
        "  dados.loc[c,'ID']=c"
      ],
      "execution_count": 301,
      "outputs": []
    },
    {
      "cell_type": "markdown",
      "metadata": {
        "id": "5Rv8VmezXgid",
        "colab_type": "text"
      },
      "source": [
        "#Gerando Projeção"
      ]
    },
    {
      "cell_type": "code",
      "metadata": {
        "id": "bTs0GHOPmhKQ",
        "colab_type": "code",
        "cellView": "both",
        "colab": {}
      },
      "source": [
        "#@title Preparação Coluna X e Y, e Cálculo para projeção\n",
        "x = dados['ID']\n",
        "y = dados['Confirmados']\n",
        "cubica = np.poly1d(np.polyfit(x, y , 4))"
      ],
      "execution_count": 302,
      "outputs": []
    },
    {
      "cell_type": "code",
      "metadata": {
        "id": "e35-Qc5gT667",
        "colab_type": "code",
        "cellView": "both",
        "colab": {
          "base_uri": "https://localhost:8080/",
          "height": 84
        },
        "outputId": "f1da7dd8-b80d-4890-bf81-8950a3e5c8b6"
      },
      "source": [
        "#@title Erros da Projeção\n",
        "#Erro médio\n",
        "print (\"Erro Médio é igual {:.2f}\".format(erroMedio(y, cubica)))\n",
        "#Erro médio quadratico\n",
        "print(\"Erro médio quadratico é igual {:.2f}\".format(erroMedioQuadratico(y, cubica)))\n",
        "#Erro médio mediano\n",
        "print(\"Erro mediano é igual {:.2f}\".format(erroMedioMediano(y, cubica)))\n",
        "#Erro do último dado\n",
        "print(\"O erro de hoje, {}, foi de {:.0f} casos.\".format(dados_originais.loc[len(dados)-1,'Data'],abs(cubica(len(x)-1)- y[len(dados)-1])))"
      ],
      "execution_count": 303,
      "outputs": [
        {
          "output_type": "stream",
          "text": [
            "Erro Médio é igual 93.67\n",
            "Erro médio quadratico é igual 14779.34\n",
            "Erro mediano é igual 82.00\n",
            "O erro de hoje, 2020-07-25, foi de 127 casos.\n"
          ],
          "name": "stdout"
        }
      ]
    },
    {
      "cell_type": "code",
      "metadata": {
        "id": "4BiZo6_FkKZT",
        "colab_type": "code",
        "cellView": "form",
        "colab": {
          "base_uri": "https://localhost:8080/",
          "height": 67
        },
        "outputId": "6ba193a4-4f1e-4d5b-c15c-230447ff7a9f"
      },
      "source": [
        "#@title Previsões\n",
        "print(\"Previsão para amanhã, {}, é de {} confirmados\". format(dados.loc[len(dados)-1,'Data']+ timedelta(1),int(cubica(len(x)))))\n",
        "for c in range (0,100):\n",
        "  if cubica(len(x)+c) > (dobrouConf*2):\n",
        "    print(\"Em + {} dias, ou seja {}, passaremos de {} e dobraremos casos confirmados\".format(c+1, dados.loc[len(x)-1,'Data'] + timedelta(days = c+1), dobrouConf*2))\n",
        "    break\n",
        "for c in range (0,100):\n",
        "  if cubica(len(x)+c) > 10000:\n",
        "    print(\"Em + {} dias, ou seja {}, passaremos de 10000 casos confirmados\".format(c+1,dados.loc[len(x)-1,'Data'] + timedelta(days = c+1)))\n",
        "    break"
      ],
      "execution_count": 304,
      "outputs": [
        {
          "output_type": "stream",
          "text": [
            "Previsão para amanhã, 2020-07-27 00:00:00, é de 8039 confirmados\n",
            "Em + 2 dias, ou seja 2020-07-28 00:00:00, passaremos de 8280 e dobraremos casos confirmados\n",
            "Em + 8 dias, ou seja 2020-08-03 00:00:00, passaremos de 10000 casos confirmados\n"
          ],
          "name": "stdout"
        }
      ]
    },
    {
      "cell_type": "code",
      "metadata": {
        "id": "sZ6vNzYVw3Kg",
        "colab_type": "code",
        "cellView": "form",
        "colab": {
          "base_uri": "https://localhost:8080/",
          "height": 592
        },
        "outputId": "b4cc72a7-fc7b-489a-c4db-cb9b26313395"
      },
      "source": [
        "#@title Gráfico Projeção\n",
        "tempoProjecao = 10 #@param {type:\"slider\", min:0, max:100, step:1}\n",
        "t = np.linspace(0,len(x)+tempoProjecao,10)\n",
        "plt.figure(figsize=(15,10))\n",
        "grafico = plt.plot(x, y, 'o', t, cubica(t), '-')"
      ],
      "execution_count": 305,
      "outputs": [
        {
          "output_type": "display_data",
          "data": {
            "image/png": "[encoded data removed]",
            "text/plain": [
              "<Figure size 1080x720 with 1 Axes>"
            ]
          },
          "metadata": {
            "tags": [],
            "needs_background": "light"
          }
        }
      ]
    },
    {
      "cell_type": "markdown",
      "metadata": {
        "id": "XaC470al2X4A",
        "colab_type": "text"
      },
      "source": [
        "![image.png](data:image/png;base64,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)"
      ]
    },
    {
      "cell_type": "code",
      "metadata": {
        "id": "Br5TKW11iDgr",
        "colab_type": "code",
        "cellView": "form",
        "colab": {}
      },
      "source": [
        "#@title Calculando Média Conf. Diários\n",
        "#média de confirmados diários\n",
        "mediaDiaria = []\n",
        "for i in range(0,len(dados_originais)):\n",
        "  mediaDiaria.append(float(dados.iloc[:i+1]['ConfDiarios'].mean()))"
      ],
      "execution_count": 306,
      "outputs": []
    },
    {
      "cell_type": "code",
      "metadata": {
        "id": "i8mDqg0pPABg",
        "colab_type": "code",
        "cellView": "form",
        "colab": {
          "base_uri": "https://localhost:8080/",
          "height": 382
        },
        "outputId": "b84aa194-9553-43d5-f143-d18f4a1ee37a"
      },
      "source": [
        "#@title Gráfico Crescimento pelo tempo\n",
        "\n",
        "plt.figure(figsize=(25, 8),)\n",
        "ax = dados['ConfDiarios'].plot(kind='bar',color=(0.1, 0.1, 0.1, 0.1))\n",
        "ax2 = mediaDiaria\n",
        "\n",
        "ax.set_title('Confirmados por dia')\n",
        "ax.set_xlabel('Data')\n",
        "ax.set_ylabel('Nº Confirmados')\n",
        "\n",
        "plt.plot(ax2,'g--',linewidth=2)\n",
        "x_labels =  dados_originais['Data'] \n",
        "ax.set_xticklabels(x_labels) #Mostrará a data inicial ao invés do ID\n",
        "add_value_labels(ax)\n",
        "plt.show()"
      ],
      "execution_count": 307,
      "outputs": [
        {
          "output_type": "display_data",
          "data": {
            "image/png": "[encoded data removed]",
            "text/plain": [
              "<Figure size 1800x576 with 1 Axes>"
            ]
          },
          "metadata": {
            "tags": [],
            "needs_background": "light"
          }
        }
      ]
    },
    {
      "cell_type": "markdown",
      "metadata": {
        "id": "yplPd_iJ0VGf",
        "colab_type": "text"
      },
      "source": [
        "![image.png](data:image/png;base64,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)"
      ]
    },
    {
      "cell_type": "code",
      "metadata": {
        "id": "NIHwIEjV_Eng",
        "colab_type": "code",
        "cellView": "both",
        "colab": {}
      },
      "source": [
        "#@title Inserindo %Óbitos/Conf na tabela\n",
        "dados.insert(loc = 11, column = '%Óbitos/Conf.', value =0)\n",
        "for i in range(len(dados)):\n",
        "  dados.loc[i, '%Óbitos/Conf.'] = (dados.loc[i, 'Obitos']/dados.loc[i, 'Confirmados'])*100"
      ],
      "execution_count": 308,
      "outputs": []
    },
    {
      "cell_type": "code",
      "metadata": {
        "id": "Mh2DKXJH-aGX",
        "colab_type": "code",
        "cellView": "form",
        "colab": {
          "base_uri": "https://localhost:8080/",
          "height": 385
        },
        "outputId": "65c4127f-e635-4e84-cac7-4dda805628dc"
      },
      "source": [
        "#@title %Óbitos/Conf x Data\n",
        "plt.figure(figsize=(30, 10))\n",
        "ax = dados['%Óbitos/Conf.'].plot(kind='bar')\n",
        "ax.set_title('%Óbitos/Conf.')\n",
        "ax.set_xlabel('Data')\n",
        "ax.set_ylabel('%Óbitos/Conf')\n",
        "x_labels =  dados_originais['Data'] \n",
        "ax.set_xticklabels(x_labels) #Mostrará a data inicial ao invés do ID\n",
        "add_value_labels(ax)\n",
        "plt.show()"
      ],
      "execution_count": 309,
      "outputs": [
        {
          "output_type": "display_data",
          "data": {
            "image/png": "[encoded data removed]",
            "text/plain": [
              "<Figure size 2160x720 with 1 Axes>"
            ]
          },
          "metadata": {
            "tags": [],
            "needs_background": "light"
          }
        }
      ]
    },
    {
      "cell_type": "code",
      "metadata": {
        "id": "FObr4Nl0-ym6",
        "colab_type": "code",
        "cellView": "form",
        "colab": {
          "base_uri": "https://localhost:8080/",
          "height": 592
        },
        "outputId": "e01f8844-aa38-4e27-afb4-e705d2ee5fda"
      },
      "source": [
        "#@title Tabela Final \n",
        "dados"
      ],
      "execution_count": 310,
      "outputs": [
        {
          "output_type": "execute_result",
          "data": {
            "text/html": [
              "<div>\n",
              "<style scoped>\n",
              "    .dataframe tbody tr th:only-of-type {\n",
              "        vertical-align: middle;\n",
              "    }\n",
              "\n",
              "    .dataframe tbody tr th {\n",
              "        vertical-align: top;\n",
              "    }\n",
              "\n",
              "    .dataframe thead th {\n",
              "        text-align: right;\n",
              "    }\n",
              "</style>\n",
              "<table border=\"1\" class=\"dataframe\">\n",
              "  <thead>\n",
              "    <tr style=\"text-align: right;\">\n",
              "      <th></th>\n",
              "      <th>ID</th>\n",
              "      <th>index</th>\n",
              "      <th>Data</th>\n",
              "      <th>Confirmados</th>\n",
              "      <th>EmAnalise</th>\n",
              "      <th>Negativos</th>\n",
              "      <th>Obitos</th>\n",
              "      <th>Recuperados</th>\n",
              "      <th>inconclusivos</th>\n",
              "      <th>UTIConfirmado</th>\n",
              "      <th>ConfDiarios</th>\n",
              "      <th>%Óbitos/Conf.</th>\n",
              "      <th>NegDiarios</th>\n",
              "    </tr>\n",
              "  </thead>\n",
              "  <tbody>\n",
              "    <tr>\n",
              "      <th>0</th>\n",
              "      <td>0</td>\n",
              "      <td>0</td>\n",
              "      <td>2020-05-04</td>\n",
              "      <td>505</td>\n",
              "      <td>402</td>\n",
              "      <td>1422</td>\n",
              "      <td>16</td>\n",
              "      <td>303</td>\n",
              "      <td>2</td>\n",
              "      <td>36</td>\n",
              "      <td>7</td>\n",
              "      <td>3.168317</td>\n",
              "      <td>41</td>\n",
              "    </tr>\n",
              "    <tr>\n",
              "      <th>1</th>\n",
              "      <td>1</td>\n",
              "      <td>1</td>\n",
              "      <td>2020-05-05</td>\n",
              "      <td>511</td>\n",
              "      <td>333</td>\n",
              "      <td>1452</td>\n",
              "      <td>17</td>\n",
              "      <td>327</td>\n",
              "      <td>2</td>\n",
              "      <td>30</td>\n",
              "      <td>6</td>\n",
              "      <td>3.326810</td>\n",
              "      <td>30</td>\n",
              "    </tr>\n",
              "    <tr>\n",
              "      <th>2</th>\n",
              "      <td>2</td>\n",
              "      <td>2</td>\n",
              "      <td>2020-05-06</td>\n",
              "      <td>519</td>\n",
              "      <td>281</td>\n",
              "      <td>1494</td>\n",
              "      <td>17</td>\n",
              "      <td>343</td>\n",
              "      <td>2</td>\n",
              "      <td>38</td>\n",
              "      <td>8</td>\n",
              "      <td>3.275530</td>\n",
              "      <td>42</td>\n",
              "    </tr>\n",
              "    <tr>\n",
              "      <th>3</th>\n",
              "      <td>3</td>\n",
              "      <td>3</td>\n",
              "      <td>2020-05-07</td>\n",
              "      <td>562</td>\n",
              "      <td>318</td>\n",
              "      <td>1553</td>\n",
              "      <td>17</td>\n",
              "      <td>367</td>\n",
              "      <td>2</td>\n",
              "      <td>39</td>\n",
              "      <td>43</td>\n",
              "      <td>3.024911</td>\n",
              "      <td>59</td>\n",
              "    </tr>\n",
              "    <tr>\n",
              "      <th>4</th>\n",
              "      <td>4</td>\n",
              "      <td>4</td>\n",
              "      <td>2020-05-08</td>\n",
              "      <td>582</td>\n",
              "      <td>361</td>\n",
              "      <td>1602</td>\n",
              "      <td>17</td>\n",
              "      <td>374</td>\n",
              "      <td>2</td>\n",
              "      <td>40</td>\n",
              "      <td>20</td>\n",
              "      <td>2.920962</td>\n",
              "      <td>49</td>\n",
              "    </tr>\n",
              "    <tr>\n",
              "      <th>...</th>\n",
              "      <td>...</td>\n",
              "      <td>...</td>\n",
              "      <td>...</td>\n",
              "      <td>...</td>\n",
              "      <td>...</td>\n",
              "      <td>...</td>\n",
              "      <td>...</td>\n",
              "      <td>...</td>\n",
              "      <td>...</td>\n",
              "      <td>...</td>\n",
              "      <td>...</td>\n",
              "      <td>...</td>\n",
              "      <td>...</td>\n",
              "    </tr>\n",
              "    <tr>\n",
              "      <th>78</th>\n",
              "      <td>78</td>\n",
              "      <td>79</td>\n",
              "      <td>2020-07-22</td>\n",
              "      <td>6844</td>\n",
              "      <td>13390</td>\n",
              "      <td>20729</td>\n",
              "      <td>248</td>\n",
              "      <td>3719</td>\n",
              "      <td>17</td>\n",
              "      <td>285</td>\n",
              "      <td>116</td>\n",
              "      <td>3.623612</td>\n",
              "      <td>3</td>\n",
              "    </tr>\n",
              "    <tr>\n",
              "      <th>79</th>\n",
              "      <td>79</td>\n",
              "      <td>80</td>\n",
              "      <td>2020-07-23</td>\n",
              "      <td>7033</td>\n",
              "      <td>13825</td>\n",
              "      <td>21156</td>\n",
              "      <td>257</td>\n",
              "      <td>3771</td>\n",
              "      <td>17</td>\n",
              "      <td>286</td>\n",
              "      <td>189</td>\n",
              "      <td>3.654202</td>\n",
              "      <td>427</td>\n",
              "    </tr>\n",
              "    <tr>\n",
              "      <th>80</th>\n",
              "      <td>80</td>\n",
              "      <td>81</td>\n",
              "      <td>2020-07-24</td>\n",
              "      <td>7288</td>\n",
              "      <td>12813</td>\n",
              "      <td>21957</td>\n",
              "      <td>262</td>\n",
              "      <td>3771</td>\n",
              "      <td>17</td>\n",
              "      <td>296</td>\n",
              "      <td>255</td>\n",
              "      <td>3.594951</td>\n",
              "      <td>801</td>\n",
              "    </tr>\n",
              "    <tr>\n",
              "      <th>81</th>\n",
              "      <td>81</td>\n",
              "      <td>82</td>\n",
              "      <td>2020-07-25</td>\n",
              "      <td>7617</td>\n",
              "      <td>13001</td>\n",
              "      <td>23344</td>\n",
              "      <td>269</td>\n",
              "      <td>3952</td>\n",
              "      <td>17</td>\n",
              "      <td>310</td>\n",
              "      <td>329</td>\n",
              "      <td>3.531574</td>\n",
              "      <td>1387</td>\n",
              "    </tr>\n",
              "    <tr>\n",
              "      <th>82</th>\n",
              "      <td>82</td>\n",
              "      <td>83</td>\n",
              "      <td>2020-07-26</td>\n",
              "      <td>7652</td>\n",
              "      <td>12902</td>\n",
              "      <td>23421</td>\n",
              "      <td>273</td>\n",
              "      <td>3962</td>\n",
              "      <td>17</td>\n",
              "      <td>313</td>\n",
              "      <td>35</td>\n",
              "      <td>3.567695</td>\n",
              "      <td>77</td>\n",
              "    </tr>\n",
              "  </tbody>\n",
              "</table>\n",
              "<p>83 rows × 13 columns</p>\n",
              "</div>"
            ],
            "text/plain": [
              "    ID  index       Data  ...  ConfDiarios  %Óbitos/Conf.  NegDiarios\n",
              "0    0      0 2020-05-04  ...            7       3.168317          41\n",
              "1    1      1 2020-05-05  ...            6       3.326810          30\n",
              "2    2      2 2020-05-06  ...            8       3.275530          42\n",
              "3    3      3 2020-05-07  ...           43       3.024911          59\n",
              "4    4      4 2020-05-08  ...           20       2.920962          49\n",
              "..  ..    ...        ...  ...          ...            ...         ...\n",
              "78  78     79 2020-07-22  ...          116       3.623612           3\n",
              "79  79     80 2020-07-23  ...          189       3.654202         427\n",
              "80  80     81 2020-07-24  ...          255       3.594951         801\n",
              "81  81     82 2020-07-25  ...          329       3.531574        1387\n",
              "82  82     83 2020-07-26  ...           35       3.567695          77\n",
              "\n",
              "[83 rows x 13 columns]"
            ]
          },
          "metadata": {
            "tags": []
          },
          "execution_count": 310
        }
      ]
    },
    {
      "cell_type": "markdown",
      "metadata": {
        "id": "hc0ESBkDA-el",
        "colab_type": "text"
      },
      "source": [
        "#Semanal"
      ]
    },
    {
      "cell_type": "markdown",
      "metadata": {
        "id": "oL48k3bvwMXt",
        "colab_type": "text"
      },
      "source": [
        ""
      ]
    },
    {
      "cell_type": "code",
      "metadata": {
        "id": "r6_D-fN0jRrL",
        "colab_type": "code",
        "cellView": "both",
        "colab": {}
      },
      "source": [
        "#@title Criando uma tabela vazia para receber os dados semanais\n",
        "#dadosSemanais = newEmptyCSV(dados[['ID']])\n",
        "dadosSemanais = pd.DataFrame()"
      ],
      "execution_count": 311,
      "outputs": []
    },
    {
      "cell_type": "code",
      "metadata": {
        "id": "tENxgfrkmJkF",
        "colab_type": "code",
        "cellView": "both",
        "colab": {}
      },
      "source": [
        "#@title Gerando os dados\n",
        "#@markdown #####Data Inicia da semana\n",
        "#@markdown #####Quantos exames foram realizados por Semana\n",
        "#@markdown #####Confirmações Semanais\n",
        "#@markdown #####Caos Negados por Semana\n",
        "#@markdown #####% de exames realizados com resultado positivo\n",
        "examesSemanal = []\n",
        "confSemanal = []\n",
        "negSemanal = []\n",
        "semana = 0\n",
        "somaConf = 0\n",
        "somaNeg = 0\n",
        "dataInicial = []\n",
        "for c in range(6, len(dados), 7):\n",
        "  dataInicial.insert(semana, dados_originais.loc[c-6,'Data']) \n",
        "  for z in range(c,c-7,-1):\n",
        "    somaConf += dados.loc[z, 'ConfDiarios']\n",
        "    somaNeg += dados.loc[z, 'NegDiarios']\n",
        "  examesSemanal.insert(semana , somaConf + somaNeg)\n",
        "  confSemanal.insert(semana, somaConf)\n",
        "  negSemanal.insert(semana, somaNeg)\n",
        "  semana +=1\n",
        "  somaConf = 0\n",
        "  somaNeg = 0"
      ],
      "execution_count": 312,
      "outputs": []
    },
    {
      "cell_type": "code",
      "metadata": {
        "id": "Ul05Lhy_p60k",
        "colab_type": "code",
        "cellView": "both",
        "colab": {}
      },
      "source": [
        "#@title Acrescentado as colunas e os dados\n",
        "\n",
        "dadosSemanais.insert(loc=0, column = 'ID', value =0)\n",
        "dadosSemanais.insert(loc=1, column = 'Data Inicial', value =0)\n",
        "dadosSemanais.insert(loc=2, column = 'Conf.Semanal', value =0)\n",
        "dadosSemanais.insert(loc=3, column = 'Neg.Semanal', value =0)\n",
        "dadosSemanais.insert(loc=4, column = 'ExamesRealizasdos', value =0)\n",
        "dadosSemanais.insert(loc=5, column = 'Percentual.Conf', value =0)\n",
        "\n",
        "\n",
        "for c in range(0, len(examesSemanal)):\n",
        "  dadosSemanais.loc[c, \"ID\"] = c\n",
        "  dadosSemanais.loc[c, \"Data Inicial\"] = dataInicial[c]\n",
        "  dadosSemanais.loc[c, \"ExamesRealizasdos\"] = examesSemanal[c]\n",
        "  dadosSemanais.loc[c, \"Neg.Semanal\"] = negSemanal[c]\n",
        "  dadosSemanais.loc[c, \"Conf.Semanal\"] = confSemanal[c]\n",
        "  dadosSemanais.loc[c, \"Percentual.Conf\"] = (dadosSemanais.loc[c, \"Conf.Semanal\"] / dadosSemanais.loc[c, \"ExamesRealizasdos\"])*100"
      ],
      "execution_count": 313,
      "outputs": []
    },
    {
      "cell_type": "code",
      "metadata": {
        "id": "hTOHNCz3sdKr",
        "colab_type": "code",
        "cellView": "form",
        "colab": {
          "base_uri": "https://localhost:8080/",
          "height": 375
        },
        "outputId": "2c89a95f-6cfd-43eb-9f93-2de62ab87b5a"
      },
      "source": [
        "#@title Tabela Gerada\n",
        "dadosSemanais"
      ],
      "execution_count": 314,
      "outputs": [
        {
          "output_type": "execute_result",
          "data": {
            "text/html": [
              "<div>\n",
              "<style scoped>\n",
              "    .dataframe tbody tr th:only-of-type {\n",
              "        vertical-align: middle;\n",
              "    }\n",
              "\n",
              "    .dataframe tbody tr th {\n",
              "        vertical-align: top;\n",
              "    }\n",
              "\n",
              "    .dataframe thead th {\n",
              "        text-align: right;\n",
              "    }\n",
              "</style>\n",
              "<table border=\"1\" class=\"dataframe\">\n",
              "  <thead>\n",
              "    <tr style=\"text-align: right;\">\n",
              "      <th></th>\n",
              "      <th>ID</th>\n",
              "      <th>Data Inicial</th>\n",
              "      <th>Conf.Semanal</th>\n",
              "      <th>Neg.Semanal</th>\n",
              "      <th>ExamesRealizasdos</th>\n",
              "      <th>Percentual.Conf</th>\n",
              "    </tr>\n",
              "  </thead>\n",
              "  <tbody>\n",
              "    <tr>\n",
              "      <th>0</th>\n",
              "      <td>0.0</td>\n",
              "      <td>2020-05-04</td>\n",
              "      <td>105.0</td>\n",
              "      <td>250.0</td>\n",
              "      <td>355.0</td>\n",
              "      <td>29.577465</td>\n",
              "    </tr>\n",
              "    <tr>\n",
              "      <th>1</th>\n",
              "      <td>1.0</td>\n",
              "      <td>2020-05-11</td>\n",
              "      <td>215.0</td>\n",
              "      <td>571.0</td>\n",
              "      <td>786.0</td>\n",
              "      <td>27.353690</td>\n",
              "    </tr>\n",
              "    <tr>\n",
              "      <th>2</th>\n",
              "      <td>2.0</td>\n",
              "      <td>2020-05-18</td>\n",
              "      <td>165.0</td>\n",
              "      <td>535.0</td>\n",
              "      <td>700.0</td>\n",
              "      <td>23.571429</td>\n",
              "    </tr>\n",
              "    <tr>\n",
              "      <th>3</th>\n",
              "      <td>3.0</td>\n",
              "      <td>2020-05-25</td>\n",
              "      <td>253.0</td>\n",
              "      <td>594.0</td>\n",
              "      <td>847.0</td>\n",
              "      <td>29.870130</td>\n",
              "    </tr>\n",
              "    <tr>\n",
              "      <th>4</th>\n",
              "      <td>4.0</td>\n",
              "      <td>2020-06-01</td>\n",
              "      <td>436.0</td>\n",
              "      <td>796.0</td>\n",
              "      <td>1232.0</td>\n",
              "      <td>35.389610</td>\n",
              "    </tr>\n",
              "    <tr>\n",
              "      <th>5</th>\n",
              "      <td>5.0</td>\n",
              "      <td>2020-06-08</td>\n",
              "      <td>450.0</td>\n",
              "      <td>2694.0</td>\n",
              "      <td>3144.0</td>\n",
              "      <td>14.312977</td>\n",
              "    </tr>\n",
              "    <tr>\n",
              "      <th>6</th>\n",
              "      <td>6.0</td>\n",
              "      <td>2020-06-15</td>\n",
              "      <td>874.0</td>\n",
              "      <td>2584.0</td>\n",
              "      <td>3458.0</td>\n",
              "      <td>25.274725</td>\n",
              "    </tr>\n",
              "    <tr>\n",
              "      <th>7</th>\n",
              "      <td>7.0</td>\n",
              "      <td>2020-06-22</td>\n",
              "      <td>548.0</td>\n",
              "      <td>2759.0</td>\n",
              "      <td>3307.0</td>\n",
              "      <td>16.570910</td>\n",
              "    </tr>\n",
              "    <tr>\n",
              "      <th>8</th>\n",
              "      <td>8.0</td>\n",
              "      <td>2020-06-29</td>\n",
              "      <td>618.0</td>\n",
              "      <td>2287.0</td>\n",
              "      <td>2905.0</td>\n",
              "      <td>21.273666</td>\n",
              "    </tr>\n",
              "    <tr>\n",
              "      <th>9</th>\n",
              "      <td>9.0</td>\n",
              "      <td>2020-07-06</td>\n",
              "      <td>733.0</td>\n",
              "      <td>3578.0</td>\n",
              "      <td>4311.0</td>\n",
              "      <td>17.003016</td>\n",
              "    </tr>\n",
              "    <tr>\n",
              "      <th>10</th>\n",
              "      <td>10.0</td>\n",
              "      <td>2020-07-13</td>\n",
              "      <td>1719.0</td>\n",
              "      <td>1600.0</td>\n",
              "      <td>3319.0</td>\n",
              "      <td>51.792709</td>\n",
              "    </tr>\n",
              "  </tbody>\n",
              "</table>\n",
              "</div>"
            ],
            "text/plain": [
              "      ID Data Inicial  ...  ExamesRealizasdos  Percentual.Conf\n",
              "0    0.0   2020-05-04  ...              355.0        29.577465\n",
              "1    1.0   2020-05-11  ...              786.0        27.353690\n",
              "2    2.0   2020-05-18  ...              700.0        23.571429\n",
              "3    3.0   2020-05-25  ...              847.0        29.870130\n",
              "4    4.0   2020-06-01  ...             1232.0        35.389610\n",
              "5    5.0   2020-06-08  ...             3144.0        14.312977\n",
              "6    6.0   2020-06-15  ...             3458.0        25.274725\n",
              "7    7.0   2020-06-22  ...             3307.0        16.570910\n",
              "8    8.0   2020-06-29  ...             2905.0        21.273666\n",
              "9    9.0   2020-07-06  ...             4311.0        17.003016\n",
              "10  10.0   2020-07-13  ...             3319.0        51.792709\n",
              "\n",
              "[11 rows x 6 columns]"
            ]
          },
          "metadata": {
            "tags": []
          },
          "execution_count": 314
        }
      ]
    },
    {
      "cell_type": "code",
      "metadata": {
        "id": "OuZi4nzZQTm8",
        "colab_type": "code",
        "cellView": "form",
        "colab": {
          "base_uri": "https://localhost:8080/",
          "height": 561
        },
        "outputId": "3182e932-0554-4aaa-d690-6d81b0cefd67"
      },
      "source": [
        "#@title Gráfico % Exames com casos Confirmados\n",
        "\n",
        "plt.figure(figsize=(10, 8))\n",
        "ax = dadosSemanais['Percentual.Conf'].plot(kind='bar')\n",
        "ax.set_title('% de Confirmados x Semana')\n",
        "ax.set_xlabel('Data inicial da Semana')\n",
        "ax.set_ylabel('Percentual de Confirmados')\n",
        "x_labels =  dadosSemanais['Data Inicial'] \n",
        "ax.set_xticklabels(x_labels) #Mostrará a data inicial ao invés do ID\n",
        "add_value_labels(ax)\n",
        "plt.show()"
      ],
      "execution_count": 315,
      "outputs": [
        {
          "output_type": "display_data",
          "data": {
            "image/png": "[encoded data removed]",
            "text/plain": [
              "<Figure size 720x576 with 1 Axes>"
            ]
          },
          "metadata": {
            "tags": [],
            "needs_background": "light"
          }
        }
      ]
    },
    {
      "cell_type": "markdown",
      "metadata": {
        "id": "1yfPsVHrwgog",
        "colab_type": "text"
      },
      "source": [
        "#Consulta de Dados\n",
        "* Link dos arquivos diários da Prefeitura de Porto Alegre"
      ]
    },
    {
      "cell_type": "code",
      "metadata": {
        "id": "VQdkMY7SxDCy",
        "colab_type": "code",
        "cellView": "form",
        "colab": {
          "base_uri": "https://localhost:8080/",
          "height": 67
        },
        "outputId": "cfba7546-e857-4331-9de0-9af726e7c0cb"
      },
      "source": [
        "#@title Datas com documentos disponiveis\n",
        "print(\"O primeiro arquivo PDF disponibilizado pela Prefeitura é da data de {}\". format(\"2020-03-23\"))\n",
        "print(\"O primeiro arquivo PDF utilizado para essa análise é de {}\". format(dados_originais.loc[0,\"Data\"]))\n",
        "print(\"O último arquivo PDF utilizado para essa análise é de {}\".format(dados_originais.loc[len(dados_originais)-1,\"Data\"]))"
      ],
      "execution_count": 316,
      "outputs": [
        {
          "output_type": "stream",
          "text": [
            "O primeiro arquivo PDF disponibilizado pela Prefeitura é da data de 2020-03-23\n",
            "O primeiro arquivo PDF utilizado para essa análise é de 2020-05-04\n",
            "O último arquivo PDF utilizado para essa análise é de 2020-07-26\n"
          ],
          "name": "stdout"
        }
      ]
    },
    {
      "cell_type": "code",
      "metadata": {
        "id": "K0iY2pD6jndN",
        "colab_type": "code",
        "cellView": "form",
        "colab": {
          "base_uri": "https://localhost:8080/",
          "height": 50
        },
        "outputId": "d99f1ded-f1e0-4d28-f0e6-ccfa206e7542"
      },
      "source": [
        "#@title Data para obter Link do Documento\n",
        "Data  = '2020-03-30' #@param {type:\"date\"}\n",
        "dia = Data[-2] + Data[-1]\n",
        "mes = Data[5] + Data[6]\n",
        "dataDados= \"2020-\" +mes+\"-\" +dia\n",
        "\n",
        "\n",
        "arquivo = 0\n",
        "dataDocumento = [\"2020-03-23\",\"2020-03-24\",\"2020-03-25\",\"2020-03-26\",\"2020-03-27\",\"2020-03-28\",\"2020-03-29\",\"2020-03-30\",\n",
        "                   \"2020-03-31\",\"2020-04-01\",\"2020-04-02\",\"2020-04-03\",\"2020-04-04\",\"2020-04-05\",\"2020-04-06\",\"2020-04-07\",\n",
        "                   \"2020-04-08\",\"2020-04-10\",\"2020-04-09\",\"2020-04-11\",\"2020-04-12\",\"2020-04-13\",\"2020-04-14\",\"2020-04-15\",\n",
        "                   \"2020-04-16\",\"2020-04-17\",\"2020-04-18\",\"2020-04-19\",\"2020-04-20\",\"2020-04-21\",\"2020-04-22\",\"2020-04-23\",\n",
        "                   \"2020-04-24\",\"2020-04-25\",\"2020-04-26\",\"2020-04-27\",\"2020-04-28\",\"2020-04-29\",\"2020-04-30\",\"2020-05-01\",\n",
        "                   \"2020-05-02\",\"2020-05-03\"]\n",
        "for c in range (len(dados_originais)):\n",
        "  if dados_originais.loc[c,\"Data\"] == dataDados:\n",
        "    arquivo = c + 43\n",
        "    break\n",
        "if arquivo ==0:\n",
        "  for c in range (len(dataDocumento)):\n",
        "    if dataDocumento[c] == dataDados:\n",
        "      arquivo = c + 1\n",
        "      break\n",
        "\n",
        "if arquivo < 43 and not arquivo ==0:\n",
        "  print(\"Este documento não foi utilizado para essa análise\")\n",
        "if arquivo > 0:\n",
        "  print(\"Link: \" + \"http://lproweb.procempa.com.br/pmpa/prefpoa/sms/usu_doc/\", end=\"\")\n",
        "\n",
        "\n",
        "if arquivo == 18:\n",
        "  print('2020_04_09_boletim_covid_sms_18_-_documentos_google.pdf')\n",
        "elif arquivo == 126:\n",
        "  print(\"_2020_07_26_boletim_covid_sms_126.pdf\")\n",
        "\n",
        "elif arquivo <19 and not (arquivo == 0 or arquivo ==8 or arquivo == 9):\n",
        "  print(f\"2020_{mes}_{dia}_boletim_covid_sms.pdf\")\n",
        "\n",
        "elif arquivo >7 and not (dia == \"26\" and mes == \"07\"):\n",
        "  if arquivo <10:\n",
        "    arquivo = '0'+ str(arquivo)\n",
        "  print(f\"2020_{mes}_{dia}_boletim_covid_sms_{arquivo}.pdf\")\n",
        "  \n",
        "\n",
        "else:\n",
        "  print(\" Arquivo para essa data não encontrado\")\n",
        " \n",
        " #http://lproweb.procempa.com.br/pmpa/prefpoa/sms/usu_doc/2020_03_23_boletim_covid_sms.pdf\n"
      ],
      "execution_count": 317,
      "outputs": [
        {
          "output_type": "stream",
          "text": [
            "Este documento não foi utilizado para essa análise\n",
            "Link: http://lproweb.procempa.com.br/pmpa/prefpoa/sms/usu_doc/2020_03_30_boletim_covid_sms_08.pdf\n"
          ],
          "name": "stdout"
        }
      ]
    }
  ]
}